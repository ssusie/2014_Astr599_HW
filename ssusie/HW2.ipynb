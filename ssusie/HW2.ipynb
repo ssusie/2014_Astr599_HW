{
 "metadata": {
  "name": "",
  "signature": "sha256:4458fcaf18dd8857e43ed1647eeb4fa27941e8dcc280fcf8959f9b4f3a1eb4b2"
 },
 "nbformat": 3,
 "nbformat_minor": 0,
 "worksheets": [
  {
   "cells": [
    {
     "cell_type": "markdown",
     "metadata": {},
     "source": [
      "##  Homework 2"
     ]
    },
    {
     "cell_type": "markdown",
     "metadata": {},
     "source": [
      "Create the function $f(x)=\\sin(x$)."
     ]
    },
    {
     "cell_type": "code",
     "collapsed": false,
     "input": [
      "import numpy as np\n",
      "\n",
      "def my_f(x):\n",
      "    return np.sin(x)"
     ],
     "language": "python",
     "metadata": {},
     "outputs": [],
     "prompt_number": 74
    },
    {
     "cell_type": "markdown",
     "metadata": {},
     "source": [
      "Create the class integrator."
     ]
    },
    {
     "cell_type": "code",
     "collapsed": false,
     "input": [
      "class Integrator(object):\n",
      "    def __init__(self, a, b, n):\n",
      "        self.a, self.b, self.n = a, b, n\n",
      "        self.points, self.weights = self.method()\n",
      "        \n",
      "    def method(self):\n",
      "        raise NotImplementedError('no rule in class %s' %self.__class__.__name__)\n",
      "        \n",
      "    def integrate(self, func):\n",
      "        f=func(self.points)\n",
      "        return np.sum(self.weights*f)\n",
      "    "
     ],
     "language": "python",
     "metadata": {},
     "outputs": [],
     "prompt_number": 75
    },
    {
     "cell_type": "markdown",
     "metadata": {},
     "source": [
      "The class Trapezoidal inherited from Integrator."
     ]
    },
    {
     "cell_type": "code",
     "collapsed": false,
     "input": [
      "class Trapezoidal(Integrator):\n",
      "    def __init__(self, *args):\n",
      "        super(Trapezoidal, self).__init__(*args)\n",
      "        \n",
      "    def method(self):\n",
      "        self.points=np.linspace(self.a,self.b,self.n)\n",
      "        self.weights=2*np.ones(len(self.points))\n",
      "        self.weights[0], self.weights[-1]=1,1\n",
      "        self.weights=(self.b-self.a)/(2*self.n)*self.weights\n",
      "        return self.points, self.weights"
     ],
     "language": "python",
     "metadata": {},
     "outputs": [],
     "prompt_number": 76
    },
    {
     "cell_type": "markdown",
     "metadata": {},
     "source": [
      "Try the result for function $\\sin(x)$ in the interval $[0,\\pi]$."
     ]
    },
    {
     "cell_type": "code",
     "collapsed": false,
     "input": [
      "trap=Trapezoidal(0,np.pi,100)"
     ],
     "language": "python",
     "metadata": {},
     "outputs": [],
     "prompt_number": 77
    },
    {
     "cell_type": "code",
     "collapsed": false,
     "input": [
      "trap.integrate(my_f)\n"
     ],
     "language": "python",
     "metadata": {},
     "outputs": [
      {
       "metadata": {},
       "output_type": "pyout",
       "prompt_number": 61,
       "text": [
        "1.9798338422550528"
       ]
      }
     ],
     "prompt_number": 61
    },
    {
     "cell_type": "markdown",
     "metadata": {},
     "source": [
      "Midpoint inhereted from Integrator class calculates integral using midpoint rule."
     ]
    },
    {
     "cell_type": "code",
     "collapsed": false,
     "input": [
      "class Midpoint(Integrator):\n",
      "    def __init__(self, *args):\n",
      "        super(Midpoint, self).__init__(*args)\n",
      "        \n",
      "    def method(self):\n",
      "        pts=np.linspace(self.a,self.b,self.n)\n",
      "        self.points=(pts[1:]+pts[:-1])/2\n",
      "        self.weights=(self.b-self.a)/self.n*np.ones(len(self.points))\n",
      "        return self.points, self.weights\n",
      "    "
     ],
     "language": "python",
     "metadata": {},
     "outputs": [],
     "prompt_number": 53
    },
    {
     "cell_type": "markdown",
     "metadata": {},
     "source": [
      "Try to see the result."
     ]
    },
    {
     "cell_type": "code",
     "collapsed": false,
     "input": [
      "midp=Midpoint(0, np.pi, 100)\n",
      "midp.integrate(my_f)"
     ],
     "language": "python",
     "metadata": {},
     "outputs": [
      {
       "metadata": {},
       "output_type": "pyout",
       "prompt_number": 62,
       "text": [
        "1.9800830799182418"
       ]
      }
     ],
     "prompt_number": 62
    },
    {
     "cell_type": "markdown",
     "metadata": {},
     "source": [
      "The exact integral equals to $1-\\cos(x)$. Bellow is the graph of the function. You can see that at point $\\pi$ the vale is 2 and our approximation was close to that value."
     ]
    },
    {
     "cell_type": "code",
     "collapsed": false,
     "input": [
      "import matplotlib.pyplot as plt\n",
      "%matplotlib inline\n",
      "\n",
      "def f(x):\n",
      "    plt.plot(x, 1-np.cos(x),'k')"
     ],
     "language": "python",
     "metadata": {},
     "outputs": [],
     "prompt_number": 78
    },
    {
     "cell_type": "code",
     "collapsed": false,
     "input": [
      "x=np.linspace(0,6*np.pi, 1000)\n",
      "f(x)"
     ],
     "language": "python",
     "metadata": {},
     "outputs": [
      {
       "metadata": {},
       "output_type": "display_data",
       "png": "[encoded data removed]",
       "text": [
        "<matplotlib.figure.Figure at 0x105fd0d10>"
       ]
      }
     ],
     "prompt_number": 79
    },
    {
     "cell_type": "code",
     "collapsed": false,
     "input": [],
     "language": "python",
     "metadata": {},
     "outputs": []
    }
   ],
   "metadata": {}
  }
 ]
}